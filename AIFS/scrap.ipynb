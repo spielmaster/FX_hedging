{
 "cells": [
  {
   "cell_type": "code",
   "execution_count": null,
   "metadata": {},
   "outputs": [],
   "source": [
    "plt.rcParams[\"figure.figsize\"]=30,15"
   ]
  },
  {
   "cell_type": "code",
   "execution_count": null,
   "metadata": {},
   "outputs": [],
   "source": [
    "def randn_skew_fast(N, alpha=0.0, mean=0.0, var=1.0, seed = 123):\n",
    "    sigma = alpha / np.sqrt(1.0 + alpha**2) \n",
    "    np.random.seed(seed)\n",
    "    u0 = np.random.randn(N)\n",
    "    v = np.random.randn(N)\n",
    "    u1 = (sigma*u0 + np.sqrt(1.0 - sigma**2)*v) * var\n",
    "    u1[u0 < 0] *= -1\n",
    "    u1 = u1 + mean\n",
    "    return u1"
   ]
  },
  {
   "cell_type": "code",
   "execution_count": null,
   "metadata": {},
   "outputs": [],
   "source": [
    "def gen_paths(S0, r, sigma, T, M, I):\n",
    "    dt = float(T) / M\n",
    "    paths = np.zeros((M + 1, I), np.float64)\n",
    "    paths[0] = S0\n",
    "    for t in range(1, M + 1):\n",
    "        rand = np.random.standard_normal(I)\n",
    "        paths[t] = paths[t - 1] * np.exp((r - 0.5 * sigma ** 2) * dt +\n",
    "                                         sigma * np.sqrt(dt) * rand)\n",
    "    return paths"
   ]
  },
  {
   "cell_type": "code",
   "execution_count": null,
   "metadata": {},
   "outputs": [],
   "source": [
    "N = 1000\n",
    "alpha = -2\n",
    "mean=25000\n",
    "var = 8000"
   ]
  },
  {
   "cell_type": "code",
   "execution_count": null,
   "metadata": {},
   "outputs": [],
   "source": [
    "median = mean - (alpha*var)/3\n",
    "params = [alpha, mean, var]\n",
    "plt.subplots(figsize=(12,4))\n",
    "p = randn_skew_fast(N, alpha, median, var)\n",
    "#sns.distplot(p)\n",
    "p = p.astype('int', copy=False)\n",
    "sns.kdeplot(data=abs(p))"
   ]
  },
  {
   "cell_type": "code",
   "execution_count": null,
   "metadata": {},
   "outputs": [],
   "source": [
    "r = 0.035\n",
    "sigma = 0.1\n",
    "T = 1\n",
    "deltat = T / N\n",
    "i = 365*2"
   ]
  },
  {
   "cell_type": "code",
   "execution_count": null,
   "metadata": {},
   "outputs": [],
   "source": [
    "np.random.seed(123)\n",
    "S0 = 1.22\n",
    "paths_eur = gen_paths(S0, r, sigma, T, i, N)\n",
    "np.random.seed(133)\n",
    "S0 = 1.7\n",
    "paths_gbp = gen_paths(S0, r, sigma, T, i, N)"
   ]
  },
  {
   "cell_type": "code",
   "execution_count": null,
   "metadata": {},
   "outputs": [],
   "source": [
    "plt.plot(paths_eur)\n",
    "plt.show()"
   ]
  },
  {
   "cell_type": "code",
   "execution_count": null,
   "metadata": {},
   "outputs": [],
   "source": [
    "plt.plot(paths_gbp)\n",
    "plt.show()"
   ]
  },
  {
   "cell_type": "code",
   "execution_count": null,
   "metadata": {},
   "outputs": [],
   "source": [
    "df_eur = pd.DataFrame(paths_eur[:,-1])\n",
    "df_gbp = pd.DataFrame(paths_gbp[:,-1])"
   ]
  },
  {
   "cell_type": "code",
   "execution_count": null,
   "metadata": {},
   "outputs": [],
   "source": [
    "df_volume = pd.DataFrame(p)\n",
    "\n",
    "## save to xlsx file\n",
    "\n",
    "filepath = 'simulation_data.xlsx'\n",
    "\n",
    "df_volume.to_excel(filepath, sheet_name='volume_risk', index=False)"
   ]
  },
  {
   "cell_type": "code",
   "execution_count": null,
   "metadata": {},
   "outputs": [],
   "source": [
    "with pd.ExcelWriter(filepath, engine='openpyxl') as writer:\n",
    "    writer.book = load_workbook(filepath)\n",
    "    df_eur.to_excel(writer, sheet_name='fx_risk_eur')\n",
    "    df_gbp.to_excel(writer, sheet_name='fx_risk_gbp')\n",
    "    "
   ]
  }
 ],
 "metadata": {
  "kernelspec": {
   "display_name": "Python 3",
   "language": "python",
   "name": "python3"
  },
  "language_info": {
   "codemirror_mode": {
    "name": "ipython",
    "version": 3
   },
   "file_extension": ".py",
   "mimetype": "text/x-python",
   "name": "python",
   "nbconvert_exporter": "python",
   "pygments_lexer": "ipython3",
   "version": "3.8.3"
  }
 },
 "nbformat": 4,
 "nbformat_minor": 4
}
